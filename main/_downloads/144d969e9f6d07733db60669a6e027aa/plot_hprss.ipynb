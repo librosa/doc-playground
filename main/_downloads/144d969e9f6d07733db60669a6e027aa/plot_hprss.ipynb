{
  "cells": [
    {
      "cell_type": "code",
      "execution_count": null,
      "metadata": {
        "collapsed": false
      },
      "outputs": [],
      "source": [
        "%matplotlib inline"
      ]
    },
    {
      "cell_type": "markdown",
      "metadata": {},
      "source": [
        "\n# Harmonic-percussive source separation\n\nThis notebook illustrates how to separate an audio signal into\nits harmonic and percussive components.\n\nWe'll compare the original median-filtering based approach of\n`Fitzgerald, 2010 <http://arrow.dit.ie/cgi/viewcontent.cgi?article=1078&context=argcon>`_\nand its margin-based extension due to `Dreidger, Mueller and Disch, 2014\n<http://www.terasoft.com.tw/conf/ismir2014/proceedings/T110_127_Paper.pdf>`_.\n"
      ]
    },
    {
      "cell_type": "code",
      "execution_count": null,
      "metadata": {
        "collapsed": false
      },
      "outputs": [],
      "source": [
        "import numpy as np\nimport matplotlib.pyplot as plt\n\nfrom IPython.display import Audio\n\nimport librosa\nimport librosa.display"
      ]
    },
    {
      "cell_type": "markdown",
      "metadata": {},
      "source": [
        "Load an example clip with harmonics and percussives\n\n"
      ]
    },
    {
      "cell_type": "code",
      "execution_count": null,
      "metadata": {
        "collapsed": false
      },
      "outputs": [],
      "source": [
        "y, sr = librosa.load(librosa.ex('fishin'), duration=5, offset=10)\n\nAudio(data=y, rate=sr)"
      ]
    },
    {
      "cell_type": "markdown",
      "metadata": {},
      "source": [
        "Compute the short-time Fourier transform of y\n\n"
      ]
    },
    {
      "cell_type": "code",
      "execution_count": null,
      "metadata": {
        "collapsed": false
      },
      "outputs": [],
      "source": [
        "D = librosa.stft(y)"
      ]
    },
    {
      "cell_type": "markdown",
      "metadata": {},
      "source": [
        "Decompose D into harmonic and percussive components\n\n$D = D_\\text{harmonic} + D_\\text{percussive}$\n\n"
      ]
    },
    {
      "cell_type": "code",
      "execution_count": null,
      "metadata": {
        "collapsed": false
      },
      "outputs": [],
      "source": [
        "D_harmonic, D_percussive = librosa.decompose.hpss(D)"
      ]
    },
    {
      "cell_type": "markdown",
      "metadata": {},
      "source": [
        "We can plot the two components along with the original spectrogram\n\n"
      ]
    },
    {
      "cell_type": "code",
      "execution_count": null,
      "metadata": {
        "collapsed": false
      },
      "outputs": [],
      "source": [
        "# Pre-compute a global reference power from the input spectrum\nrp = np.max(np.abs(D))\n\nfig, ax = plt.subplots(nrows=3, sharex=True, sharey=True)\n\nimg = librosa.display.specshow(librosa.amplitude_to_db(np.abs(D), ref=rp),\n                         y_axis='log', x_axis='time', ax=ax[0])\nax[0].set(title='Full spectrogram')\nax[0].label_outer()\n\nlibrosa.display.specshow(librosa.amplitude_to_db(np.abs(D_harmonic), ref=rp),\n                         y_axis='log', x_axis='time', ax=ax[1])\nax[1].set(title='Harmonic spectrogram')\nax[1].label_outer()\n\nlibrosa.display.specshow(librosa.amplitude_to_db(np.abs(D_percussive), ref=rp),\n                         y_axis='log', x_axis='time', ax=ax[2])\nax[2].set(title='Percussive spectrogram')\nfig.colorbar(img, ax=ax)"
      ]
    },
    {
      "cell_type": "markdown",
      "metadata": {},
      "source": [
        "We can also invert the separated spectrograms to play back the audio.\nFirst the harmonic signal:\n\n"
      ]
    },
    {
      "cell_type": "code",
      "execution_count": null,
      "metadata": {
        "collapsed": false
      },
      "outputs": [],
      "source": [
        "y_harmonic = librosa.istft(D_harmonic, length=len(y))\nAudio(data=y_harmonic, rate=sr)"
      ]
    },
    {
      "cell_type": "markdown",
      "metadata": {},
      "source": [
        "And next the percussive signal:\n\n"
      ]
    },
    {
      "cell_type": "code",
      "execution_count": null,
      "metadata": {
        "collapsed": false
      },
      "outputs": [],
      "source": [
        "y_percussive = librosa.istft(D_percussive, length=len(y))\nAudio(data=y_percussive, rate=sr)"
      ]
    },
    {
      "cell_type": "markdown",
      "metadata": {},
      "source": [
        "The default HPSS above assigns energy to each time-frequency bin according to\nwhether a horizontal (harmonic) or vertical (percussive) filter responds higher\nat that position.\n\nThis assumes that all energy belongs to either a harmonic or percussive source,\nbut does not handle \"noise\" well.  Noise energy ends up getting spread between\nD_harmonic and D_percussive.  Unfortunately, this often also includes vocals\nand other sounds that are not purely harmonic or percussive.\n\nIf we instead require that the horizontal filter responds more than the vertical\nfilter *by at least some margin*, and vice versa, then noise can be removed\nfrom both components.\n\nNote: the default (above) corresponds to margin=1\n\n"
      ]
    },
    {
      "cell_type": "code",
      "execution_count": null,
      "metadata": {
        "collapsed": false
      },
      "outputs": [],
      "source": [
        "# Let's compute separations for a few different margins and compare the results below\nD_harmonic2, D_percussive2 = librosa.decompose.hpss(D, margin=2)\nD_harmonic4, D_percussive4 = librosa.decompose.hpss(D, margin=4)\nD_harmonic8, D_percussive8 = librosa.decompose.hpss(D, margin=8)\nD_harmonic16, D_percussive16 = librosa.decompose.hpss(D, margin=16)"
      ]
    },
    {
      "cell_type": "markdown",
      "metadata": {},
      "source": [
        "In the plots below, note that vibrato has been suppressed from the harmonic\ncomponents, and vocals have been suppressed in the percussive components.\n\n"
      ]
    },
    {
      "cell_type": "code",
      "execution_count": null,
      "metadata": {
        "collapsed": false
      },
      "outputs": [],
      "source": [
        "fig, ax = plt.subplots(nrows=5, ncols=2, sharex=True, sharey=True, figsize=(10, 10))\nlibrosa.display.specshow(librosa.amplitude_to_db(np.abs(D_harmonic), ref=rp),\n                         y_axis='log', x_axis='time', ax=ax[0, 0])\nax[0, 0].set(title='Harmonic')\n\nlibrosa.display.specshow(librosa.amplitude_to_db(np.abs(D_percussive), ref=rp),\n                         y_axis='log', x_axis='time', ax=ax[0, 1])\nax[0, 1].set(title='Percussive')\n\nlibrosa.display.specshow(librosa.amplitude_to_db(np.abs(D_harmonic2), ref=rp),\n                         y_axis='log', x_axis='time', ax=ax[1, 0])\n\nlibrosa.display.specshow(librosa.amplitude_to_db(np.abs(D_percussive2), ref=rp),\n                         y_axis='log', x_axis='time', ax=ax[1, 1])\n\nlibrosa.display.specshow(librosa.amplitude_to_db(np.abs(D_harmonic4), ref=rp),\n                         y_axis='log', x_axis='time', ax=ax[2, 0])\n\nlibrosa.display.specshow(librosa.amplitude_to_db(np.abs(D_percussive4), ref=rp),\n                         y_axis='log', x_axis='time', ax=ax[2, 1])\n\nlibrosa.display.specshow(librosa.amplitude_to_db(np.abs(D_harmonic8), ref=rp),\n                         y_axis='log', x_axis='time', ax=ax[3, 0])\n\nlibrosa.display.specshow(librosa.amplitude_to_db(np.abs(D_percussive8), ref=rp),\n                         y_axis='log', x_axis='time', ax=ax[3, 1])\n\nlibrosa.display.specshow(librosa.amplitude_to_db(np.abs(D_harmonic16), ref=rp),\n                         y_axis='log', x_axis='time', ax=ax[4, 0])\n\nlibrosa.display.specshow(librosa.amplitude_to_db(np.abs(D_percussive16), ref=rp),\n                         y_axis='log', x_axis='time', ax=ax[4, 1])\n\nfor i in range(5):\n    ax[i, 0].set(ylabel='margin={:d}'.format(2**i))\n    ax[i, 0].label_outer()\n    ax[i, 1].label_outer()"
      ]
    },
    {
      "cell_type": "markdown",
      "metadata": {},
      "source": [
        "In the plots above, it looks like margins of 4 or greater are sufficient to\nproduce strictly harmonic and percussive components.\n\nWe can invert and play those components back just as before.\nAgain, starting with the harmonic component:\n\n"
      ]
    },
    {
      "cell_type": "code",
      "execution_count": null,
      "metadata": {
        "collapsed": false
      },
      "outputs": [],
      "source": [
        "y_harmonic4 = librosa.istft(D_harmonic4, length=len(y))\nAudio(data=y_harmonic4, rate=sr)"
      ]
    },
    {
      "cell_type": "markdown",
      "metadata": {},
      "source": [
        "And the percussive component:\n\n"
      ]
    },
    {
      "cell_type": "code",
      "execution_count": null,
      "metadata": {
        "collapsed": false
      },
      "outputs": [],
      "source": [
        "y_percussive4 = librosa.istft(D_percussive4, length=len(y))\nAudio(data=y_percussive4, rate=sr)"
      ]
    }
  ],
  "metadata": {
    "kernelspec": {
      "display_name": "Python 3",
      "language": "python",
      "name": "python3"
    },
    "language_info": {
      "codemirror_mode": {
        "name": "ipython",
        "version": 3
      },
      "file_extension": ".py",
      "mimetype": "text/x-python",
      "name": "python",
      "nbconvert_exporter": "python",
      "pygments_lexer": "ipython3",
      "version": "3.7.12"
    }
  },
  "nbformat": 4,
  "nbformat_minor": 0
}