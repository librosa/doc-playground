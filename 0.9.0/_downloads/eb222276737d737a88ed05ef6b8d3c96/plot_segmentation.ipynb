{
  "cells": [
    {
      "cell_type": "code",
      "execution_count": null,
      "metadata": {
        "collapsed": false
      },
      "outputs": [],
      "source": [
        "%matplotlib inline"
      ]
    },
    {
      "cell_type": "markdown",
      "metadata": {},
      "source": [
        "\n# Laplacian segmentation\n\nThis notebook implements the laplacian segmentation method of\n`McFee and Ellis, 2014 <http://bmcfee.github.io/papers/ismir2014_spectral.pdf>`_,\nwith a couple of minor stability improvements.\n\nThroughout the example, we will refer to equations in the paper by number, so it will be\nhelpful to read along.\n"
      ]
    },
    {
      "cell_type": "code",
      "execution_count": null,
      "metadata": {
        "collapsed": false
      },
      "outputs": [],
      "source": [
        "# Code source: Brian McFee\n# License: ISC"
      ]
    },
    {
      "cell_type": "markdown",
      "metadata": {},
      "source": [
        "Imports\n  - numpy for basic functionality\n  - scipy for graph Laplacian\n  - matplotlib for visualization\n  - sklearn.cluster for K-Means\n\n\n"
      ]
    },
    {
      "cell_type": "code",
      "execution_count": null,
      "metadata": {
        "collapsed": false
      },
      "outputs": [],
      "source": [
        "import numpy as np\nimport scipy\nimport matplotlib.pyplot as plt\n\nimport sklearn.cluster\n\nimport librosa\nimport librosa.display"
      ]
    },
    {
      "cell_type": "markdown",
      "metadata": {},
      "source": [
        "First, we'll load in a song\n\n"
      ]
    },
    {
      "cell_type": "code",
      "execution_count": null,
      "metadata": {
        "collapsed": false
      },
      "outputs": [],
      "source": [
        "y, sr = librosa.load(librosa.ex('fishin'))"
      ]
    },
    {
      "cell_type": "markdown",
      "metadata": {},
      "source": [
        "Next, we'll compute and plot a log-power CQT\n\n"
      ]
    },
    {
      "cell_type": "code",
      "execution_count": null,
      "metadata": {
        "collapsed": false
      },
      "outputs": [],
      "source": [
        "BINS_PER_OCTAVE = 12 * 3\nN_OCTAVES = 7\nC = librosa.amplitude_to_db(np.abs(librosa.cqt(y=y, sr=sr,\n                                        bins_per_octave=BINS_PER_OCTAVE,\n                                        n_bins=N_OCTAVES * BINS_PER_OCTAVE)),\n                            ref=np.max)\n\nfig, ax = plt.subplots()\nlibrosa.display.specshow(C, y_axis='cqt_hz', sr=sr,\n                         bins_per_octave=BINS_PER_OCTAVE,\n                         x_axis='time', ax=ax)"
      ]
    },
    {
      "cell_type": "markdown",
      "metadata": {},
      "source": [
        "To reduce dimensionality, we'll beat-synchronous the CQT\n\n"
      ]
    },
    {
      "cell_type": "code",
      "execution_count": null,
      "metadata": {
        "collapsed": false
      },
      "outputs": [],
      "source": [
        "tempo, beats = librosa.beat.beat_track(y=y, sr=sr, trim=False)\nCsync = librosa.util.sync(C, beats, aggregate=np.median)\n\n# For plotting purposes, we'll need the timing of the beats\n# we fix_frames to include non-beat frames 0 and C.shape[1] (final frame)\nbeat_times = librosa.frames_to_time(librosa.util.fix_frames(beats,\n                                                            x_min=0),\n                                    sr=sr)\n\nfig, ax = plt.subplots()\nlibrosa.display.specshow(Csync, bins_per_octave=12*3,\n                         y_axis='cqt_hz', x_axis='time',\n                         x_coords=beat_times, ax=ax)"
      ]
    },
    {
      "cell_type": "markdown",
      "metadata": {},
      "source": [
        "Let's build a weighted recurrence matrix using beat-synchronous CQT\n(Equation 1)\nwidth=3 prevents links within the same bar\nmode='affinity' here implements S_rep (after Eq. 8)\n\n"
      ]
    },
    {
      "cell_type": "code",
      "execution_count": null,
      "metadata": {
        "collapsed": false
      },
      "outputs": [],
      "source": [
        "R = librosa.segment.recurrence_matrix(Csync, width=3, mode='affinity',\n                                      sym=True)\n\n# Enhance diagonals with a median filter (Equation 2)\ndf = librosa.segment.timelag_filter(scipy.ndimage.median_filter)\nRf = df(R, size=(1, 7))"
      ]
    },
    {
      "cell_type": "markdown",
      "metadata": {},
      "source": [
        "Now let's build the sequence matrix (S_loc) using mfcc-similarity\n\n  $R_\\text{path}[i, i\\pm 1] = \\exp(-\\|C_i - C_{i\\pm 1}\\|^2 / \\sigma^2)$\n\nHere, we take $\\sigma$ to be the median distance between successive beats.\n\n\n"
      ]
    },
    {
      "cell_type": "code",
      "execution_count": null,
      "metadata": {
        "collapsed": false
      },
      "outputs": [],
      "source": [
        "mfcc = librosa.feature.mfcc(y=y, sr=sr)\nMsync = librosa.util.sync(mfcc, beats)\n\npath_distance = np.sum(np.diff(Msync, axis=1)**2, axis=0)\nsigma = np.median(path_distance)\npath_sim = np.exp(-path_distance / sigma)\n\nR_path = np.diag(path_sim, k=1) + np.diag(path_sim, k=-1)"
      ]
    },
    {
      "cell_type": "markdown",
      "metadata": {},
      "source": [
        "And compute the balanced combination (Equations 6, 7, 9)\n\n"
      ]
    },
    {
      "cell_type": "code",
      "execution_count": null,
      "metadata": {
        "collapsed": false
      },
      "outputs": [],
      "source": [
        "deg_path = np.sum(R_path, axis=1)\ndeg_rec = np.sum(Rf, axis=1)\n\nmu = deg_path.dot(deg_path + deg_rec) / np.sum((deg_path + deg_rec)**2)\n\nA = mu * Rf + (1 - mu) * R_path"
      ]
    },
    {
      "cell_type": "markdown",
      "metadata": {},
      "source": [
        "Plot the resulting graphs (Figure 1, left and center)\n\n"
      ]
    },
    {
      "cell_type": "code",
      "execution_count": null,
      "metadata": {
        "collapsed": false
      },
      "outputs": [],
      "source": [
        "fig, ax = plt.subplots(ncols=3, sharex=True, sharey=True, figsize=(10, 4))\nlibrosa.display.specshow(Rf, cmap='inferno_r', y_axis='time', x_axis='s',\n                         y_coords=beat_times, x_coords=beat_times, ax=ax[0])\nax[0].set(title='Recurrence similarity')\nax[0].label_outer()\nlibrosa.display.specshow(R_path, cmap='inferno_r', y_axis='time', x_axis='s',\n                         y_coords=beat_times, x_coords=beat_times, ax=ax[1])\nax[1].set(title='Path similarity')\nax[1].label_outer()\nlibrosa.display.specshow(A, cmap='inferno_r', y_axis='time', x_axis='s',\n                         y_coords=beat_times, x_coords=beat_times, ax=ax[2])\nax[2].set(title='Combined graph')\nax[2].label_outer()"
      ]
    },
    {
      "cell_type": "markdown",
      "metadata": {},
      "source": [
        "Now let's compute the normalized Laplacian (Eq. 10)\n\n"
      ]
    },
    {
      "cell_type": "code",
      "execution_count": null,
      "metadata": {
        "collapsed": false
      },
      "outputs": [],
      "source": [
        "L = scipy.sparse.csgraph.laplacian(A, normed=True)\n\n\n# and its spectral decomposition\nevals, evecs = scipy.linalg.eigh(L)\n\n\n# We can clean this up further with a median filter.\n# This can help smooth over small discontinuities\nevecs = scipy.ndimage.median_filter(evecs, size=(9, 1))\n\n\n# cumulative normalization is needed for symmetric normalize laplacian eigenvectors\nCnorm = np.cumsum(evecs**2, axis=1)**0.5\n\n# If we want k clusters, use the first k normalized eigenvectors.\n# Fun exercise: see how the segmentation changes as you vary k\n\nk = 5\n\nX = evecs[:, :k] / Cnorm[:, k-1:k]\n\n\n# Plot the resulting representation (Figure 1, center and right)\n\nfig, ax = plt.subplots(ncols=2, sharey=True, figsize=(10, 5))\nlibrosa.display.specshow(Rf, cmap='inferno_r', y_axis='time', x_axis='time',\n                         y_coords=beat_times, x_coords=beat_times, ax=ax[1])\nax[1].set(title='Recurrence similarity')\nax[1].label_outer()\n\nlibrosa.display.specshow(X,\n                         y_axis='time',\n                         y_coords=beat_times, ax=ax[0])\nax[0].set(title='Structure components')"
      ]
    },
    {
      "cell_type": "markdown",
      "metadata": {},
      "source": [
        "Let's use these k components to cluster beats into segments\n(Algorithm 1)\n\n"
      ]
    },
    {
      "cell_type": "code",
      "execution_count": null,
      "metadata": {
        "collapsed": false
      },
      "outputs": [],
      "source": [
        "KM = sklearn.cluster.KMeans(n_clusters=k)\n\nseg_ids = KM.fit_predict(X)\n\n\n# and plot the results\nfig, ax = plt.subplots(ncols=3, sharey=True, figsize=(10, 4))\ncolors = plt.get_cmap('Paired', k)\n\nlibrosa.display.specshow(Rf, cmap='inferno_r', y_axis='time',\n                         y_coords=beat_times, ax=ax[1])\nax[1].set(title='Recurrence matrix')\nax[1].label_outer()\n\nlibrosa.display.specshow(X,\n                         y_axis='time',\n                         y_coords=beat_times, ax=ax[0])\nax[0].set(title='Structure components')\n\nimg = librosa.display.specshow(np.atleast_2d(seg_ids).T, cmap=colors, \n                         y_axis='time',\n                         x_coords=[0, 1], y_coords=list(beat_times) + [beat_times[-1]], \n                         ax=ax[2])\nax[2].set(title='Estimated labels')\n\nax[2].label_outer()\nfig.colorbar(img, ax=[ax[2]], ticks=range(k))"
      ]
    },
    {
      "cell_type": "markdown",
      "metadata": {},
      "source": [
        "Locate segment boundaries from the label sequence\n\n"
      ]
    },
    {
      "cell_type": "code",
      "execution_count": null,
      "metadata": {
        "collapsed": false
      },
      "outputs": [],
      "source": [
        "bound_beats = 1 + np.flatnonzero(seg_ids[:-1] != seg_ids[1:])\n\n# Count beat 0 as a boundary\nbound_beats = librosa.util.fix_frames(bound_beats, x_min=0)\n\n# Compute the segment label for each boundary\nbound_segs = list(seg_ids[bound_beats])\n\n# Convert beat indices to frames\nbound_frames = beats[bound_beats]\n\n# Make sure we cover to the end of the track\nbound_frames = librosa.util.fix_frames(bound_frames,\n                                       x_min=None,\n                                       x_max=C.shape[1]-1)"
      ]
    },
    {
      "cell_type": "markdown",
      "metadata": {},
      "source": [
        "And plot the final segmentation over original CQT\n\n"
      ]
    },
    {
      "cell_type": "code",
      "execution_count": null,
      "metadata": {
        "collapsed": false
      },
      "outputs": [],
      "source": [
        "# sphinx_gallery_thumbnail_number = 5\n\nimport matplotlib.patches as patches\nbound_times = librosa.frames_to_time(bound_frames)\nfreqs = librosa.cqt_frequencies(n_bins=C.shape[0],\n                                fmin=librosa.note_to_hz('C1'),\n                                bins_per_octave=BINS_PER_OCTAVE)\n\nfig, ax = plt.subplots()\nlibrosa.display.specshow(C, y_axis='cqt_hz', sr=sr,\n                         bins_per_octave=BINS_PER_OCTAVE,\n                         x_axis='time', ax=ax)\n\nfor interval, label in zip(zip(bound_times, bound_times[1:]), bound_segs):\n    ax.add_patch(patches.Rectangle((interval[0], freqs[0]),\n                                   interval[1] - interval[0],\n                                   freqs[-1],\n                                   facecolor=colors(label),\n                                   alpha=0.50))"
      ]
    }
  ],
  "metadata": {
    "kernelspec": {
      "display_name": "Python 3",
      "language": "python",
      "name": "python3"
    },
    "language_info": {
      "codemirror_mode": {
        "name": "ipython",
        "version": 3
      },
      "file_extension": ".py",
      "mimetype": "text/x-python",
      "name": "python",
      "nbconvert_exporter": "python",
      "pygments_lexer": "ipython3",
      "version": "3.7.12"
    }
  },
  "nbformat": 4,
  "nbformat_minor": 0
}