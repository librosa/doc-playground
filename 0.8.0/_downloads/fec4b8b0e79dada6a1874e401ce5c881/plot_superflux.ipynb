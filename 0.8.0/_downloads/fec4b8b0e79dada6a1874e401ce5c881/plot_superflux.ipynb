{
  "cells": [
    {
      "cell_type": "code",
      "execution_count": null,
      "metadata": {
        "collapsed": false
      },
      "outputs": [],
      "source": [
        "%matplotlib inline"
      ]
    },
    {
      "cell_type": "markdown",
      "metadata": {},
      "source": [
        "\n# Superflux onsets\n\nThis notebook demonstrates how to recover the Superflux onset detection algorithm of\n`Boeck and Widmer, 2013 <http://dafx13.nuim.ie/papers/09.dafx2013_submission_12.pdf>`_\nfrom librosa.\n\nThis algorithm improves onset detection accuracy in the presence of vibrato.\n"
      ]
    },
    {
      "cell_type": "code",
      "execution_count": null,
      "metadata": {
        "collapsed": false
      },
      "outputs": [],
      "source": [
        "# Code source: Brian McFee\n# License: ISC"
      ]
    },
    {
      "cell_type": "markdown",
      "metadata": {},
      "source": [
        "We'll need numpy and matplotlib for this example\n\n"
      ]
    },
    {
      "cell_type": "code",
      "execution_count": null,
      "metadata": {
        "collapsed": false
      },
      "outputs": [],
      "source": [
        "import numpy as np\nimport matplotlib.pyplot as plt\n\nimport librosa\nimport librosa.display"
      ]
    },
    {
      "cell_type": "markdown",
      "metadata": {},
      "source": [
        "The method works fine for longer signals, but the\nresults are harder to visualize.\n\n"
      ]
    },
    {
      "cell_type": "code",
      "execution_count": null,
      "metadata": {
        "collapsed": false
      },
      "outputs": [],
      "source": [
        "y, sr = librosa.load(librosa.ex('trumpet', hq=True),\n                     sr=44100)"
      ]
    },
    {
      "cell_type": "markdown",
      "metadata": {},
      "source": [
        "These parameters are taken directly from the paper\n\n"
      ]
    },
    {
      "cell_type": "code",
      "execution_count": null,
      "metadata": {
        "collapsed": false
      },
      "outputs": [],
      "source": [
        "n_fft = 1024\nhop_length = int(librosa.time_to_samples(1./200, sr=sr))\nlag = 2\nn_mels = 138\nfmin = 27.5\nfmax = 16000.\nmax_size = 3"
      ]
    },
    {
      "cell_type": "markdown",
      "metadata": {},
      "source": [
        "The paper uses a log-frequency representation, but for\nsimplicity, we'll use a Mel spectrogram instead.\n\n"
      ]
    },
    {
      "cell_type": "code",
      "execution_count": null,
      "metadata": {
        "collapsed": false
      },
      "outputs": [],
      "source": [
        "S = librosa.feature.melspectrogram(y, sr=sr, n_fft=n_fft,\n                                   hop_length=hop_length,\n                                   fmin=fmin,\n                                   fmax=fmax,\n                                   n_mels=n_mels)\n\n\nfig, ax = plt.subplots()\nlibrosa.display.specshow(librosa.power_to_db(S, ref=np.max),\n                         y_axis='mel', x_axis='time', sr=sr,\n                         hop_length=hop_length, fmin=fmin, fmax=fmax, ax=ax)"
      ]
    },
    {
      "cell_type": "markdown",
      "metadata": {},
      "source": [
        "Now we'll compute the onset strength envelope and onset events\nusing the librosa defaults.\n\n"
      ]
    },
    {
      "cell_type": "code",
      "execution_count": null,
      "metadata": {
        "collapsed": false
      },
      "outputs": [],
      "source": [
        "odf_default = librosa.onset.onset_strength(y=y, sr=sr, hop_length=hop_length)\nonset_default = librosa.onset.onset_detect(y=y, sr=sr, hop_length=hop_length,\n                                           units='time')"
      ]
    },
    {
      "cell_type": "markdown",
      "metadata": {},
      "source": [
        "And similarly with the superflux method\n\n"
      ]
    },
    {
      "cell_type": "code",
      "execution_count": null,
      "metadata": {
        "collapsed": false
      },
      "outputs": [],
      "source": [
        "odf_sf = librosa.onset.onset_strength(S=librosa.power_to_db(S, ref=np.max),\n                                      sr=sr,\n                                      hop_length=hop_length,\n                                      lag=lag, max_size=max_size)\n\nonset_sf = librosa.onset.onset_detect(onset_envelope=odf_sf,\n                                      sr=sr,\n                                      hop_length=hop_length,\n                                      units='time')"
      ]
    },
    {
      "cell_type": "markdown",
      "metadata": {},
      "source": [
        "If you look carefully, the default onset detector (top sub-plot) has\nseveral false positives in high-vibrato regions, eg around 0.62s or\n1.80s.\n\nThe superflux method (middle plot) is less susceptible to vibrato, and\ndoes not detect onset events at those points.\n\n"
      ]
    },
    {
      "cell_type": "code",
      "execution_count": null,
      "metadata": {
        "collapsed": false
      },
      "outputs": [],
      "source": [
        "# sphinx_gallery_thumbnail_number = 2\nfig, ax = plt.subplots(nrows=3, sharex=True)\n\nframe_time = librosa.frames_to_time(np.arange(len(odf_default)),\n                                    sr=sr,\n                                    hop_length=hop_length)\n\nlibrosa.display.specshow(librosa.power_to_db(S, ref=np.max),\n                         y_axis='mel', x_axis='time', sr=sr,\n                         hop_length=hop_length, fmin=fmin, fmax=fmax, ax=ax[2])\nax[2].set(xlim=[0, 5.0])\n\n\nax[0].plot(frame_time, odf_default, label='Spectral flux')\nax[0].vlines(onset_default, 0, odf_default.max(), label='Onsets')\nax[0].legend()\nax[0].label_outer()\n\nax[1].plot(frame_time, odf_sf, color='g', label='Superflux')\nax[1].vlines(onset_sf, 0, odf_sf.max(), label='Onsets')\nax[1].legend()\nax[0].label_outer()"
      ]
    }
  ],
  "metadata": {
    "kernelspec": {
      "display_name": "Python 3",
      "language": "python",
      "name": "python3"
    },
    "language_info": {
      "codemirror_mode": {
        "name": "ipython",
        "version": 3
      },
      "file_extension": ".py",
      "mimetype": "text/x-python",
      "name": "python",
      "nbconvert_exporter": "python",
      "pygments_lexer": "ipython3",
      "version": "3.7.12"
    }
  },
  "nbformat": 4,
  "nbformat_minor": 0
}