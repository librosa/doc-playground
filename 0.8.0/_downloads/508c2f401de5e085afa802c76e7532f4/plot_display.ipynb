{
  "cells": [
    {
      "cell_type": "code",
      "execution_count": null,
      "metadata": {
        "collapsed": false
      },
      "outputs": [],
      "source": [
        "%matplotlib inline"
      ]
    },
    {
      "cell_type": "markdown",
      "metadata": {},
      "source": [
        "\n# Using display.specshow\n\nThis notebook gives a more in-depth demonstration of all things that `specshow`\ncan do to help generate beautiful visualizations of spectro-temporal data.\n"
      ]
    },
    {
      "cell_type": "code",
      "execution_count": null,
      "metadata": {
        "collapsed": false
      },
      "outputs": [],
      "source": [
        "# Code source: Brian McFee\n# License: ISC\n# sphinx_gallery_thumbnail_number = 15"
      ]
    },
    {
      "cell_type": "markdown",
      "metadata": {},
      "source": [
        "All of librosa's plotting functions rely on matplotlib.\nTo demonstrate everything we can do, it will help to\nimport matplotlib's pyplot API here.\n\n"
      ]
    },
    {
      "cell_type": "code",
      "execution_count": null,
      "metadata": {
        "collapsed": false
      },
      "outputs": [],
      "source": [
        "import numpy as np\nimport matplotlib.pyplot as plt\n\nimport librosa\nimport librosa.display"
      ]
    },
    {
      "cell_type": "markdown",
      "metadata": {},
      "source": [
        "First, we'll load in a demo track\n\n"
      ]
    },
    {
      "cell_type": "code",
      "execution_count": null,
      "metadata": {
        "collapsed": false
      },
      "outputs": [],
      "source": [
        "y, sr = librosa.load(librosa.ex('trumpet'))"
      ]
    },
    {
      "cell_type": "markdown",
      "metadata": {},
      "source": [
        "The first thing we might want to do is display an ordinary\n(linear) spectrogram.\nWe'll do this by first computing the short-time Fourier\ntransform, and then mapping the magnitudes to a decibel\nscale.\n\n\n"
      ]
    },
    {
      "cell_type": "code",
      "execution_count": null,
      "metadata": {
        "collapsed": false
      },
      "outputs": [],
      "source": [
        "D = librosa.stft(y)  # STFT of y\nS_db = librosa.amplitude_to_db(np.abs(D), ref=np.max)"
      ]
    },
    {
      "cell_type": "markdown",
      "metadata": {},
      "source": [
        "If you're familiar with matplotlib already, you may know\nthat there are two ways of using it: the `pyplot` interface\nand the object-oriented interface.\nBoth are supported by librosa, as we'll show here.\n\nFirst, the pyplot interface:\n\n"
      ]
    },
    {
      "cell_type": "code",
      "execution_count": null,
      "metadata": {
        "collapsed": false
      },
      "outputs": [],
      "source": [
        "plt.figure()\nlibrosa.display.specshow(S_db)\nplt.colorbar()"
      ]
    },
    {
      "cell_type": "markdown",
      "metadata": {},
      "source": [
        "And now the object-oriented interface\n\n"
      ]
    },
    {
      "cell_type": "code",
      "execution_count": null,
      "metadata": {
        "collapsed": false
      },
      "outputs": [],
      "source": [
        "fig, ax = plt.subplots()\nimg = librosa.display.specshow(S_db, ax=ax)\nfig.colorbar(img, ax=ax)"
      ]
    },
    {
      "cell_type": "markdown",
      "metadata": {},
      "source": [
        "Both figures are identical, but they use different programming\ninterfaces to construct.  Most people find the pyplot interface\nto be quicker to learn, but the object-oriented interface can\nbe a little more flexible for complex figures.\n\nFor the remainder of this example, we'll use the object-oriented\ninterface.\n\n"
      ]
    },
    {
      "cell_type": "markdown",
      "metadata": {},
      "source": [
        "## Decorating your plot\nThe figure above conveys the basic content of the spectrogram,\nbut it's missing axis labels. Without that information, it's\nimpossible for a reader to know how to interpret the visualization.\n\nspecshow provides many helpers to automatically decorate the axes\nof your plot.  For the plot above, our x-axis corresponds to time,\nand our y-axis corresponds to linearly spaced frequencies produced\nby the discrete Fourier transform.\nWe can tell specshow to decorate the axes accordingly:\n\n"
      ]
    },
    {
      "cell_type": "code",
      "execution_count": null,
      "metadata": {
        "collapsed": false
      },
      "outputs": [],
      "source": [
        "fig, ax = plt.subplots()\nimg = librosa.display.specshow(S_db, x_axis='time', y_axis='linear', ax=ax)\nax.set(title='Now with labeled axes!')\nfig.colorbar(img, ax=ax, format=\"%+2.f dB\")"
      ]
    },
    {
      "cell_type": "markdown",
      "metadata": {},
      "source": [
        "This is much better already!  Note that we also added a format string\nto the colorbar, so readers know how to read the color scale.\n\n"
      ]
    },
    {
      "cell_type": "markdown",
      "metadata": {},
      "source": [
        "## Changing axis scales\nThe linear frequency scale is sometimes helpful, but often it can\ndifficult to read.  Alternatively, it is common to use a logarithmic\nfrequency axis.  This has the benefit that every octave occupies\na constant vertical extent.\n\nWe can tell specshow to use log-scaled frequency axes just as above:\n\n"
      ]
    },
    {
      "cell_type": "code",
      "execution_count": null,
      "metadata": {
        "collapsed": false
      },
      "outputs": [],
      "source": [
        "fig, ax = plt.subplots()\nimg = librosa.display.specshow(S_db, x_axis='time', y_axis='log', ax=ax)\nax.set(title='Using a logarithmic frequency axis')\nfig.colorbar(img, ax=ax, format=\"%+2.f dB\")"
      ]
    },
    {
      "cell_type": "markdown",
      "metadata": {},
      "source": [
        "## Changing the analysis parameters\nThe default parameter settings used by librosa (e.g., `sr=22050`, `hop_length=512`,\netc) may not be appropriate for every signal.\nIf you change a parameter from its default value, e.g. when computing an STFT,\nyou can pass that same parameter to `specshow`.\nThis ensures that axis scales (e.g. time or frequency) are computed correctly.\n\n"
      ]
    },
    {
      "cell_type": "code",
      "execution_count": null,
      "metadata": {
        "collapsed": false
      },
      "outputs": [],
      "source": [
        "fig, ax = plt.subplots()\nD_highres = librosa.stft(y, hop_length=256, n_fft=4096)\nS_db_hr = librosa.amplitude_to_db(np.abs(D_highres), ref=np.max)\nimg = librosa.display.specshow(S_db_hr, hop_length=256, x_axis='time', y_axis='log',\n                               ax=ax)\nax.set(title='Higher time and frequency resolution')\nfig.colorbar(img, ax=ax, format=\"%+2.f dB\")"
      ]
    },
    {
      "cell_type": "markdown",
      "metadata": {},
      "source": [
        "Note that only the parameters which are strictly necessary are supported by\n`specshow`.  For example, without the `hop_length`, we wouldn't know how to\ntranslate frame indices to time indices.  However, `n_fft` is *not* needed,\nbecause it can be inferred from the shape of the input spectrogram.\n\nA full list of the supported parameters is provided in the\n`librosa.display.specshow` documentation.\n\n"
      ]
    },
    {
      "cell_type": "markdown",
      "metadata": {},
      "source": [
        "## Other types of spectral data\nThe examples above illustrate how to plot linear spectrograms,\nbut librosa provides many kinds of spectral representations:\nMel-scaled, constant-Q, variable-Q, chromagrams, tempograms, etc.\n\nspecshow can plot these just as well.  For example, a Mel spectrogram\ncan be displayed as follows:\n\n"
      ]
    },
    {
      "cell_type": "code",
      "execution_count": null,
      "metadata": {
        "collapsed": false
      },
      "outputs": [],
      "source": [
        "fig, ax = plt.subplots()\nM = librosa.feature.melspectrogram(y=y, sr=sr)\nM_db = librosa.power_to_db(M, ref=np.max)\nimg = librosa.display.specshow(M_db, y_axis='mel', x_axis='time', ax=ax)\nax.set(title='Mel spectrogram display')\nfig.colorbar(img, ax=ax, format=\"%+2.f dB\")"
      ]
    },
    {
      "cell_type": "markdown",
      "metadata": {},
      "source": [
        "Constant-Q plots, and other logarithmically scaled frequency representations\nsuch as Variable-Q or `iirt` can be decorated using either the frequencies (Hz)\nor their note names in scientific pitch notation:\n\n"
      ]
    },
    {
      "cell_type": "code",
      "execution_count": null,
      "metadata": {
        "collapsed": false
      },
      "outputs": [],
      "source": [
        "C = librosa.cqt(y=y, sr=sr)\nC_db = librosa.amplitude_to_db(np.abs(C), ref=np.max)\n\nfig, ax = plt.subplots()\nlibrosa.display.specshow(C_db, y_axis='cqt_hz', x_axis='time', ax=ax)\nax.set(title='Frequency (Hz) axis decoration')\n\nfig, ax = plt.subplots()\nlibrosa.display.specshow(C_db, y_axis='cqt_note', x_axis='time', ax=ax)\nax.set(title='Pitch axis decoration')"
      ]
    },
    {
      "cell_type": "markdown",
      "metadata": {},
      "source": [
        "In the latter case, the underlying data representation is still measured in\nHz; only the tick labels are changed.\n\n"
      ]
    },
    {
      "cell_type": "markdown",
      "metadata": {},
      "source": [
        "Chroma representations don't have a fixed frequency axis, and instead aggregate\ninformation across all frequencies corresponding to a given pitch class.\nspecshow can plot these too:\n\n"
      ]
    },
    {
      "cell_type": "code",
      "execution_count": null,
      "metadata": {
        "collapsed": false
      },
      "outputs": [],
      "source": [
        "chroma = librosa.feature.chroma_cqt(y=y, sr=sr)\nfig, ax = plt.subplots()\nimg = librosa.display.specshow(chroma, y_axis='chroma', x_axis='time', ax=ax)\nax.set(title='Chromagram demonstration')\nfig.colorbar(img, ax=ax)"
      ]
    },
    {
      "cell_type": "markdown",
      "metadata": {},
      "source": [
        "If you also happen to know the key of the piece being analyzed, you can\npass this to specshow and it will spell the notes properly:\n\n"
      ]
    },
    {
      "cell_type": "code",
      "execution_count": null,
      "metadata": {
        "collapsed": false
      },
      "outputs": [],
      "source": [
        "fig, ax = plt.subplots()\nimg = librosa.display.specshow(chroma, y_axis='chroma', x_axis='time',\n                               key='Eb:maj', ax=ax)\nax.set(title='Chromagram explicitly in Eb:maj')\nfig.colorbar(img, ax=ax)"
      ]
    },
    {
      "cell_type": "markdown",
      "metadata": {},
      "source": [
        "This will also work for 'cqt_note' mode.\n\n"
      ]
    },
    {
      "cell_type": "markdown",
      "metadata": {},
      "source": [
        "## Indian notation systems\n\n"
      ]
    },
    {
      "cell_type": "code",
      "execution_count": null,
      "metadata": {
        "collapsed": false
      },
      "outputs": [],
      "source": [
        "# The examples above use Western music notation to identify pitch classes, but we can\n# also decorate axes with either Hindustani or Carnatic svara classes.\n#\n# These are specified by using `y_axis='chroma_h'` or `'chroma_c'`, respectively.\n#\n# Just as with key identification in the chroma example above, you can specify the\n# thaat (Hindustani) or melakarta number or name (Carnatic) to notate the plot."
      ]
    },
    {
      "cell_type": "markdown",
      "metadata": {},
      "source": [
        "For example, the example above is in Eb:maj (or, more accurately, F:dorian),\nwhich we can also represent in Hindustani notation as Sa=5 (F) and 'kafi' thaat:\n\n"
      ]
    },
    {
      "cell_type": "code",
      "execution_count": null,
      "metadata": {
        "collapsed": false
      },
      "outputs": [],
      "source": [
        "fig, ax = plt.subplots()\nimg = librosa.display.specshow(chroma, y_axis='chroma_h', x_axis='time',\n                               Sa=5, thaat='kafi', ax=ax)\nax.set(title='Chromagram with Hindustani notation')\nfig.colorbar(img, ax=ax)"
      ]
    },
    {
      "cell_type": "markdown",
      "metadata": {},
      "source": [
        "In Carnatic notation, we would use melakarta #22.\nNote: `thaat` is optional for Hindustani notation, but `mela` is required for\nCarnatic.\n\n"
      ]
    },
    {
      "cell_type": "code",
      "execution_count": null,
      "metadata": {
        "collapsed": false
      },
      "outputs": [],
      "source": [
        "fig, ax = plt.subplots()\nimg = librosa.display.specshow(chroma, y_axis='chroma_c', x_axis='time',\n                               Sa=5, mela=22, ax=ax)\nax.set(title='Chromagram with Carnatic notation')\nfig.colorbar(img, ax=ax)"
      ]
    },
    {
      "cell_type": "markdown",
      "metadata": {},
      "source": [
        "These notation schemes can also be used in cqt plots by specifying\n`y_axis='cqt_svara'`.\n\nIn this mode, `Sa` must be specified in Hz.  Carnatic notation is used\nif `mela` is provided, and Hindustani is used if not.\n\nIndividual svara are only notated if the display range is sufficiently small,\nso we'll zoom into a single octave for this example.\n\n"
      ]
    },
    {
      "cell_type": "code",
      "execution_count": null,
      "metadata": {
        "collapsed": false
      },
      "outputs": [],
      "source": [
        "Sa = librosa.note_to_hz('F4')\nfig, ax = plt.subplots()\nlibrosa.display.specshow(C_db, y_axis='cqt_svara', Sa=Sa, x_axis='time', ax=ax)\nax.set(title='Hindustani decoration',\n       ylim=[Sa, 2*Sa])\n\nfig, ax = plt.subplots()\nlibrosa.display.specshow(C_db, y_axis='cqt_svara', Sa=Sa, mela=22, x_axis='time', ax=ax)\nax.set(title='Carnatic decoration',\n       ylim=[Sa, 2*Sa])"
      ]
    },
    {
      "cell_type": "markdown",
      "metadata": {},
      "source": [
        "## Non-spectral data\nspecshow can also be used for data that isn't exactly spectro-temporal.\nOne common application is recurrence (self-similarity) plots, which\nare time-by-time, as illustrated below.\n\n"
      ]
    },
    {
      "cell_type": "code",
      "execution_count": null,
      "metadata": {
        "collapsed": false
      },
      "outputs": [],
      "source": [
        "R = librosa.segment.recurrence_matrix(chroma, mode='affinity')\nfig, ax = plt.subplots()\nimg = librosa.display.specshow(R, y_axis='time', x_axis='time', ax=ax)\nax.set(title='Recurrence / self-similarity')\nfig.colorbar(img, ax=ax)"
      ]
    },
    {
      "cell_type": "markdown",
      "metadata": {},
      "source": [
        "In this example, notice that we used 'time' for both axis labels.\nIn general, any of the supported modes can be used for either axis.\nFor example, we could also plot the chroma covariance plot with\nchroma decorations on each axis:\n\n"
      ]
    },
    {
      "cell_type": "code",
      "execution_count": null,
      "metadata": {
        "collapsed": false
      },
      "outputs": [],
      "source": [
        "ccov = np.cov(chroma)\nfig, ax = plt.subplots()\nimg = librosa.display.specshow(ccov, y_axis='chroma', x_axis='chroma',\n                               key='Eb:maj', ax=ax)\nax.set(title='Chroma covariance')\nfig.colorbar(img, ax=ax)"
      ]
    },
    {
      "cell_type": "markdown",
      "metadata": {},
      "source": [
        "## Color maps\nYou may have noticed that the color mappings for the images above\nwere selected automatically by `specshow`.\nThis is done by `librosa.display.cmap` according to the following heuristic:\n\n  - If the data is boolean, use black-and-white\n  - If the data is (mostly) positive or (mostly) negative, use a sequential\n    colormap\n  - If the data contains both positive and negative values, use a diverging\n    colormap.\n\nThe default sequential colormap is 'magma', which is perceptually uniform and\nconverts gracefully to grayscale.\n\nYou can always override this automatic colormap selection by setting an\nexplicit `cmap`:\n\n"
      ]
    },
    {
      "cell_type": "code",
      "execution_count": null,
      "metadata": {
        "collapsed": false
      },
      "outputs": [],
      "source": [
        "fig, ax = plt.subplots()\nimg = librosa.display.specshow(S_db, cmap='gray_r', y_axis='log', x_axis='time', ax=ax)\nax.set(title='Inverted grayscale')\nfig.colorbar(img, ax=ax, format=\"%+2.f dB\")"
      ]
    },
    {
      "cell_type": "markdown",
      "metadata": {},
      "source": [
        "`specshow` uses `matplotlib.pyplot.pcolormesh` to generate the underlying image.\nAny parameters to `pcolormesh` can be passed through from `specshow`, for example,\nto set explicit bounds on the minimum and maximum ranges for colors.\nThis can be helpful when centering divergent colormaps around 0 (or some other\nreference point).\n\n"
      ]
    },
    {
      "cell_type": "code",
      "execution_count": null,
      "metadata": {
        "collapsed": false
      },
      "outputs": [],
      "source": [
        "max_var = np.max(np.abs(ccov))\nfig, ax = plt.subplots()\nimg = librosa.display.specshow(ccov, vmin=-max_var, vmax=max_var,\n                               y_axis='chroma', x_axis='chroma',\n                               key='Eb:maj', ax=ax)\nax.set(title='Chroma covariance')\nfig.colorbar(img, ax=ax)"
      ]
    },
    {
      "cell_type": "markdown",
      "metadata": {},
      "source": [
        "## Multiple plots\nOften, we'll want to show multiple synchronized features simultaneously.\nThis can be done using matplotlib's `subplot` mechanism and sharing axes.\nThere are many examples of this throughout the librosa documentation, but\nhere we'll go through it step by step.\n\n"
      ]
    },
    {
      "cell_type": "code",
      "execution_count": null,
      "metadata": {
        "collapsed": false
      },
      "outputs": [],
      "source": [
        "# Construct a subplot grid with 3 rows and 1 column, sharing the x-axis)\nfig, ax = plt.subplots(nrows=3, ncols=1, sharex=True)\n\n# On the first subplot, show the original spectrogram\nimg1 = librosa.display.specshow(S_db, x_axis='time', y_axis='log', ax=ax[0])\nax[0].set(title='STFT (log scale)')\n\n# On the second subplot, show the mel spectrogram\nimg2 = librosa.display.specshow(M_db, x_axis='time', y_axis='mel', ax=ax[1])\nax[1].set(title='Mel')\n\n# On the third subplot, show the chroma features\nimg3 = librosa.display.specshow(chroma, x_axis='time', y_axis='chroma', \n                                key='Eb:maj', ax=ax[2])\nax[2].set(title='Chroma')\n\n# To eliminate redundant axis labels, we'll use \"label_outer\" on all subplots:\nfor ax_i in ax:\n    ax_i.label_outer()\n\n# And we can share colorbars:\nfig.colorbar(img1, ax=[ax[0], ax[1]])\n\n# Or have individual colorbars:\nfig.colorbar(img3, ax=[ax[2]])\n\n# We can then even do fancy things like zoom into a particular time and frequency\n# region.  Since the axes are shared, this will apply to all three subplots at once.\nax[0].set(xlim=[1, 3])  # Zoom to seconds 1-3"
      ]
    },
    {
      "cell_type": "markdown",
      "metadata": {},
      "source": [
        "## Non-uniform axes\nAll of the examples so far have used either uniformly, linearly, or geometrically\nspaced axes.  But sometimes, we have non-uniform sampling of data, and we'd like\nto plot it in natural coordinates.\n\nOne example of this is when using beat-synchronous features in the common case\nwhere the tempo is not exactly fixed.  To demonstrate this, we'll use a longer\nexample clip.\n\nTo specify non-uniform axis sampling, you will need to provide the `x_coords`\n(or `y_coords`) array indicating the position of each sample, as demonstrated\nbelow.\n\n"
      ]
    },
    {
      "cell_type": "code",
      "execution_count": null,
      "metadata": {
        "collapsed": false
      },
      "outputs": [],
      "source": [
        "y, sr = librosa.load(librosa.ex('nutcracker'))\nchroma = librosa.feature.chroma_cqt(y=y, sr=sr)\ntempo, beats = librosa.beat.beat_track(y=y, sr=sr)\n\n# beats contains the frame indices of each detected beat\n# for synchronization and visualization, we'll need to expand this\n# to cover the limits of the data.  This can be done as follows:\nbeats = librosa.util.fix_frames(beats, x_min=0, x_max=chroma.shape[1])\n\n# Now beat-synchronize the chroma features\nchroma_sync = librosa.util.sync(chroma, beats, aggregate=np.median)\n\n# For visualization, we can convert to time (in seconds)\nbeat_times = librosa.frames_to_time(beats)\n\n# We'll plot the synchronized and unsynchronized features next\n# to each other\n\nfig, ax = plt.subplots(nrows=2, sharex=True)\nimg = librosa.display.specshow(chroma, y_axis='chroma', x_axis='time', ax=ax[0],\n                               key='Eb:maj')\nax[0].set(title='Uniform time sampling')\nax[0].label_outer()\n\nlibrosa.display.specshow(chroma_sync, y_axis='chroma', x_axis='time',\n                         x_coords=beat_times, ax=ax[1], key='Eb:maj')\nax[1].set(title='Beat-synchronous sampling')\nfig.colorbar(img, ax=ax)\n\n# For clarity, we'll zoom in on a 15-second patch\nax[1].set(xlim=[10, 25])"
      ]
    },
    {
      "cell_type": "markdown",
      "metadata": {},
      "source": [
        "## Conclusion\nThis series of examples demonstrates most of the functionality of\n`librosa.display.specshow`, but it does not exhaustively show\nevery option, e.g., for axis decoration.\nInterested readers should look through the rest of the API\ndocumentation to see how these other options can be used\neffectively.\n\n"
      ]
    }
  ],
  "metadata": {
    "kernelspec": {
      "display_name": "Python 3",
      "language": "python",
      "name": "python3"
    },
    "language_info": {
      "codemirror_mode": {
        "name": "ipython",
        "version": 3
      },
      "file_extension": ".py",
      "mimetype": "text/x-python",
      "name": "python",
      "nbconvert_exporter": "python",
      "pygments_lexer": "ipython3",
      "version": "3.7.12"
    }
  },
  "nbformat": 4,
  "nbformat_minor": 0
}